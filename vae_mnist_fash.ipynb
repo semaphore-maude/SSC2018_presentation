{
 "cells": [
  {
   "cell_type": "code",
   "execution_count": 1,
   "metadata": {
    "collapsed": true
   },
   "outputs": [],
   "source": [
    "%matplotlib inline\n",
    "\n",
    "\"\"\"Variational auto-encoder for fashion MNIST data.\n",
    "References\n",
    "----------\n",
    "http://edwardlib.org/tutorials/decoder\n",
    "http://edwardlib.org/tutorials/inference-networks\n",
    "\"\"\"\n",
    "from __future__ import absolute_import\n",
    "from __future__ import division\n",
    "from __future__ import print_function\n",
    "\n",
    "import edward as ed\n",
    "import numpy as np\n",
    "import os, random, sys\n",
    "import tensorflow as tf\n",
    "\n",
    "from edward.models import Bernoulli, Normal\n",
    "from edward.util import Progbar\n",
    "from observations import mnist\n",
    "from scipy.misc import imsave\n",
    "\n",
    "from matplotlib import pyplot as plt\n",
    "import pandas as pd\n",
    "from matplotlib import ticker\n",
    "import seaborn as sns\n",
    "import scipy.misc\n",
    "from PIL import Image, ImageOps\n"
   ]
  },
  {
   "cell_type": "code",
   "execution_count": 2,
   "metadata": {
    "collapsed": true
   },
   "outputs": [],
   "source": [
    "def generator(array, batch_size):\n",
    "    \"\"\"Generate batch with respect to array's first axis.\"\"\"\n",
    "    start = 0  # pointer to where we are in iteration\n",
    "    while True:\n",
    "        stop = start + batch_size\n",
    "        diff = stop - array.shape[0]\n",
    "        if diff <= 0:\n",
    "            batch = array[start:stop]\n",
    "            start += batch_size\n",
    "        else:\n",
    "            batch = np.concatenate((array[start:], array[:diff]))\n",
    "            start = diff\n",
    "        batch = batch.astype(np.float32) / 255.0  # normalize pixel intensities\n",
    "        batch = np.random.binomial(1, batch)  # binarize images\n",
    "        yield batch"
   ]
  },
  {
   "cell_type": "code",
   "execution_count": 3,
   "metadata": {
    "collapsed": true
   },
   "outputs": [],
   "source": [
    "def binarize(array, n=10):\n",
    "    arr = np.zeros([n,784])\n",
    "    num = np.random.randint(0, 60000, n)\n",
    "    idx = 0\n",
    "    for im in num:\n",
    "        for pix in range(0,784):\n",
    "            if array[im, pix] >= 100:\n",
    "                arr[idx, pix] = 255\n",
    "            else:\n",
    "                arr[idx, pix] = 0\n",
    "        idx += 1    \n",
    "    return arr"
   ]
  },
  {
   "cell_type": "code",
   "execution_count": 4,
   "metadata": {
    "collapsed": true
   },
   "outputs": [],
   "source": [
    "ed.set_seed(42)\n",
    "\n",
    "# DATA. MNIST batches are fed at training time.\n",
    "data_dir = 'data/fashion/'\n",
    "(x_train, lab_train), (x_test, lab_test) = mnist(data_dir)\n",
    "\n",
    "# Batch size during training\n",
    "M = 500\n",
    "x_train_generator = generator(x_train, M)\n",
    "\n",
    "xbin = binarize(x_train, M)\n",
    "# Latent dimension\n",
    "d = 2\n",
    "n_epoch = 100\n",
    "img_rows= 28\n",
    "img_cols= 28"
   ]
  },
  {
   "cell_type": "code",
   "execution_count": 5,
   "metadata": {
    "collapsed": true
   },
   "outputs": [],
   "source": [
    "thing = binarize(x_train,100)"
   ]
  },
  {
   "cell_type": "code",
   "execution_count": 6,
   "metadata": {},
   "outputs": [
    {
     "data": {
      "image/png": "[encoded data removed]",
      "text/plain": [
       "<matplotlib.figure.Figure at 0x118161b90>"
      ]
     },
     "metadata": {},
     "output_type": "display_data"
    },
    {
     "data": {
      "image/png": "[encoded data removed]",
      "text/plain": [
       "<matplotlib.figure.Figure at 0x11816a1d0>"
      ]
     },
     "metadata": {},
     "output_type": "display_data"
    }
   ],
   "source": [
    "# function that displays heatmaps of mnist-fashion images with 4 digits per row\n",
    "def show_digits(idx, row, col, img_array):\n",
    "    digit1 = np.reshape(img_array[idx], (row, col))\n",
    "    digit2 = np.reshape(img_array[idx+1], (row, col))\n",
    "    digit3 = np.reshape(img_array[idx+2], (row, col))\n",
    "    digit4 = np.reshape(img_array[idx+3], (row, col))    \n",
    "    group = np.concatenate((digit1, digit2, digit3, digit4), axis=1)\n",
    "    plt.figure(figsize=(20,5))\n",
    "    sns.heatmap(group, linewidth=0, xticklabels=False, yticklabels=False) \n",
    "\n",
    "# some arbitrary images    \n",
    "for idx in range(0,10,5):\n",
    "    show_digits(idx, img_rows, img_cols, thing)"
   ]
  },
  {
   "cell_type": "code",
   "execution_count": 29,
   "metadata": {
    "collapsed": true
   },
   "outputs": [],
   "source": [
    "out_dir = 'log/fash_results/'\n",
    "\n",
    "import sys\n",
    "from PIL import Image\n",
    "\n",
    "images1 = map(Image.open, ['log/fash_results/1.png', 'log/fash_results/3.png', 'log/fash_results/4.png', \n",
    "                           'log/fash_results/5.png', 'log/fash_results/7.png', 'log/fash_results/8.png',\n",
    "                           'log/fash_results/9.png', 'log/fash_results/11.png', 'log/fash_results/13.png', \n",
    "                           'log/fash_results/17.png', 'log/fash_results/18.png', 'log/fash_results/20.png',\n",
    "                           'log/fash_results/93.png', 'log/fash_results/94.png', 'log/fash_results/95.png', \n",
    "                           'log/fash_results/96.png', 'log/fash_results/77.png', 'log/fash_results/81.png'])\n",
    "\n",
    "widths, heights = zip(*(i.size for i in images1))\n",
    "\n",
    "total_width = sum(widths)\n",
    "max_height = max(heights)\n",
    "\n",
    "new_im = Image.new('1', (total_width, max_height))\n",
    "new_im2 = Image.new('1', (total_width, max_height))\n",
    "\n",
    "\n",
    "x_offset = 0\n",
    "for im in images1:\n",
    "    new_im.paste(im, (x_offset,0))\n",
    "    x_offset += im.size[0]\n",
    "    \n",
    "    \n",
    "new_im.save('log/fash_results/good_results.png')"
   ]
  },
  {
   "cell_type": "code",
   "execution_count": 32,
   "metadata": {},
   "outputs": [],
   "source": [
    "out_dir = 'log/out/'\n",
    "\n",
    "\n",
    "images1 = map(Image.open, ['log/out/1.png', 'log/out/3.png', 'log/out/4.png', \n",
    "                           'log/out/5.png', 'log/out/7.png', 'log/out/8.png',\n",
    "                           'log/out/9.png', 'log/out/11.png','log/out/13.png', \n",
    "                           'log/out/17.png','log/out/18.png','log/out/20.png',\n",
    "                           'log/out/93.png','log/out/94.png','log/out/95.png', \n",
    "                           'log/out/96.png','log/out/77.png','log/out/81.png'])\n",
    "\n",
    "widths, heights = zip(*(i.size for i in images1))\n",
    "\n",
    "total_width = sum(widths)\n",
    "max_height = max(heights)\n",
    "\n",
    "new_im = Image.new('1', (total_width, max_height))\n",
    "\n",
    "\n",
    "x_offset = 0\n",
    "for im in images1:\n",
    "    new_im.paste(im, (x_offset,0))\n",
    "    x_offset += im.size[0]\n",
    "    \n",
    "    \n",
    "new_im.save('log/fash_results/mid_results.png')"
   ]
  },
  {
   "cell_type": "code",
   "execution_count": null,
   "metadata": {},
   "outputs": [
    {
     "name": "stdout",
     "output_type": "stream",
     "text": [
      "Epoch: 1\n",
      "120/120 [100%] ██████████████████████████████ Elapsed: 4797s\n",
      "-log p(x) <= 482.913\n",
      "Epoch: 2\n",
      "120/120 [100%] ██████████████████████████████ Elapsed: 3454s\n",
      "-log p(x) <= 397.377\n",
      "Epoch: 3\n",
      "120/120 [100%] ██████████████████████████████ Elapsed: 2983s\n",
      "-log p(x) <= 358.516\n",
      "Epoch: 4\n",
      "120/120 [100%] ██████████████████████████████ Elapsed: 3136s\n",
      "-log p(x) <= 333.281\n",
      "Epoch: 5\n",
      "120/120 [100%] ██████████████████████████████ Elapsed: 3104s\n",
      "-log p(x) <= 316.603\n",
      "Epoch: 6\n",
      "120/120 [100%] ██████████████████████████████ Elapsed: 3149s\n",
      "-log p(x) <= 306.874\n",
      "Epoch: 7\n",
      "120/120 [100%] ██████████████████████████████ Elapsed: 3088s\n",
      "-log p(x) <= 301.038\n",
      "Epoch: 8\n",
      "120/120 [100%] ██████████████████████████████ Elapsed: 3123s\n",
      "-log p(x) <= 297.149\n",
      "Epoch: 9\n",
      "120/120 [100%] ██████████████████████████████ Elapsed: 3218s\n",
      "-log p(x) <= 294.524\n",
      "Epoch: 10\n",
      "120/120 [100%] ██████████████████████████████ Elapsed: 2905s\n",
      "-log p(x) <= 292.545\n",
      "Epoch: 11\n",
      "120/120 [100%] ██████████████████████████████ Elapsed: 4246s\n",
      "-log p(x) <= 291.023\n",
      "Epoch: 12\n",
      "120/120 [100%] ██████████████████████████████ Elapsed: 4737s\n",
      "-log p(x) <= 289.880\n",
      "Epoch: 13\n",
      "120/120 [100%] ██████████████████████████████ Elapsed: 6741s\n",
      "-log p(x) <= 288.920\n",
      "Epoch: 14\n",
      " 37/120 [ 30%] █████████                      ETA: 3960s"
     ]
    }
   ],
   "source": [
    "# MODEL\n",
    "# Define a subgraph of the full model, corresponding to a minibatch of\n",
    "# size M.\n",
    "z = Normal(loc=tf.zeros([M, d]),\n",
    "           scale=tf.ones([M, d]),\n",
    "           name = 'z')\n",
    "\n",
    "hidden = tf.layers.dense(z, 256, activation=tf.nn.relu,\n",
    "                         name = 'dense')\n",
    "\n",
    "x = Bernoulli(logits=tf.layers.dense(hidden, 28 * 28))\n",
    "\n",
    "# INFERENCE\n",
    "# Define a subgraph of the variational model, corresponding to a\n",
    "# minibatch of size M.\n",
    "x_ph = tf.placeholder(tf.int32, [M, 28 * 28])\n",
    "hidden = tf.layers.dense(tf.cast(x_ph, tf.float32), 256,\n",
    "                         activation=tf.nn.relu)\n",
    "qz = Normal(loc=tf.layers.dense(hidden, d),\n",
    "            scale=tf.layers.dense(\n",
    "                hidden, d, activation=tf.nn.softplus),\n",
    "            name='qz')\n",
    "\n",
    "# Bind p(x, z) and q(z | x) to the same TensorFlow placeholder for x.\n",
    "inference = ed.KLqp({z: qz}, data={x: x_ph})\n",
    "optimizer = tf.train.RMSPropOptimizer(0.0001, epsilon=1.0)\n",
    "inference.initialize(optimizer=optimizer, logdir='log/fash', n_samples=500, n_iter=2000)\n",
    "\n",
    "tf.global_variables_initializer().run()\n",
    "\n",
    "loss= []\n",
    "\n",
    "n_iter_per_epoch = x_train.shape[0] // M\n",
    "for epoch in range(1, n_epoch + 1):\n",
    "    print(\"Epoch: {0}\".format(epoch))\n",
    "    avg_loss = 0.0\n",
    "    \n",
    "\n",
    "    pbar = Progbar(n_iter_per_epoch)\n",
    "    for t in range(1, n_iter_per_epoch + 1):\n",
    "        pbar.update(t)\n",
    "        x_batch = next(x_train_generator)\n",
    "        info_dict = inference.update(feed_dict={x_ph: x_batch})\n",
    "        avg_loss += info_dict['loss']\n",
    "  \n",
    "    # Print a lower bound to the average marginal likelihood for an\n",
    "    # image.\n",
    "    avg_loss /= n_iter_per_epoch\n",
    "    avg_loss /= M\n",
    "    print(\"-log p(x) <= {:0.3f}\".format(avg_loss))\n",
    "\n",
    "    loss.append(avg_loss)\n",
    "    # Prior predictive check.\n",
    "    \n",
    "    out_dir = 'log/out/'\n",
    "    images = x.eval()\n",
    "    for m in range(M):\n",
    "        imsave(os.path.join(out_dir, '%d.png') % m,\n",
    "             images[m].reshape(28, 28))"
   ]
  },
  {
   "cell_type": "code",
   "execution_count": null,
   "metadata": {
    "collapsed": true
   },
   "outputs": [],
   "source": []
  },
  {
   "cell_type": "code",
   "execution_count": null,
   "metadata": {
    "collapsed": true
   },
   "outputs": [],
   "source": []
  },
  {
   "cell_type": "code",
   "execution_count": null,
   "metadata": {
    "collapsed": true
   },
   "outputs": [],
   "source": []
  },
  {
   "cell_type": "code",
   "execution_count": null,
   "metadata": {
    "collapsed": true
   },
   "outputs": [],
   "source": []
  },
  {
   "cell_type": "code",
   "execution_count": null,
   "metadata": {
    "collapsed": true
   },
   "outputs": [],
   "source": [
    "def mvn_plot_contours(z, label=False, ax=None):\n",
    "    \"\"\"Plot the contours of 2-d Normal or MultivariateNormal object.\n",
    "    Scale the axes to show 3 standard deviations.\n",
    "    \"\"\"\n",
    "    sess = ed.get_session()\n",
    "    mu = sess.run(z.parameters['loc'])\n",
    "    mu_x, mu_y = mu\n",
    "    Sigma = sess.run(z.parameters['scale_tril'])\n",
    "    sigma_x, sigma_y = np.sqrt(Sigma[0, 0]), np.sqrt(Sigma[1, 1])\n",
    "    xmin, xmax = mu_x - 3 * sigma_x, mu_x + 3 * sigma_x\n",
    "    ymin, ymax = mu_y - 3 * sigma_y, mu_y + 3 * sigma_y\n",
    "    xs = np.linspace(xmin, xmax, num=100)\n",
    "    ys = np.linspace(ymin, ymax, num=100)\n",
    "    X, Y = np.meshgrid(xs, ys)\n",
    "    T = tf.cast(np.c_[X.flatten(), Y.flatten()], dtype=tf.float32)\n",
    "    Z = sess.run(tf.exp(z.log_prob(T))).reshape((len(xs), len(ys)))\n",
    "    if ax is None:\n",
    "        fig, ax = plt.subplots()\n",
    "    cs = ax.contour(X, Y, Z)\n",
    "    if label:\n",
    "        plt.clabel(cs, inline=1, fontsize=10)"
   ]
  },
  {
   "cell_type": "code",
   "execution_count": null,
   "metadata": {
    "collapsed": true
   },
   "outputs": [],
   "source": [
    "sess = ed.get_session()"
   ]
  },
  {
   "cell_type": "code",
   "execution_count": null,
   "metadata": {
    "collapsed": true
   },
   "outputs": [],
   "source": [
    "fig, ax = plt.subplots()\n",
    "trace = sess.run(qz.eval())\n",
    "ax.scatter(trace[:, 0], trace[:, 1], marker=\".\")\n",
    "mvn_plot_contours(z, ax=ax)\n",
    "plt.show()"
   ]
  },
  {
   "cell_type": "code",
   "execution_count": null,
   "metadata": {
    "collapsed": true
   },
   "outputs": [],
   "source": []
  },
  {
   "cell_type": "code",
   "execution_count": null,
   "metadata": {
    "collapsed": true
   },
   "outputs": [],
   "source": []
  },
  {
   "cell_type": "code",
   "execution_count": null,
   "metadata": {
    "collapsed": true
   },
   "outputs": [],
   "source": []
  },
  {
   "cell_type": "code",
   "execution_count": null,
   "metadata": {
    "collapsed": true
   },
   "outputs": [],
   "source": [
    "import numpy as np\n",
    "from PIL import Image, ImageFont, ImageDraw\n",
    "import os\n",
    "\n",
    "\n",
    "def change_height_proportionally(img, width):\n",
    "    \"\"\"Change height of image proportional to given width.\"\"\"\n",
    "    wpercent = width / img.size[0]\n",
    "    proportional_height = int(img.size[0] * wpercent)\n",
    "    return img.resize((proportional_height, width), Image.ANTIALIAS)\n",
    "\n",
    "\n",
    "def change_width_proportionally(img, height):\n",
    "    \"\"\"Change width of image proportional to given height.\"\"\"\n",
    "    hpercent = height / img.size[1]\n",
    "    proportional_width = int(img.size[0] * hpercent)\n",
    "    return img.resize((proportional_width, height), Image.ANTIALIAS)\n",
    "\n",
    "\n",
    "def make_same_width(image_list):\n",
    "    \"\"\"Make all images in input list the same width.\"\"\"\n",
    "    imgs = [Image.open(i) for i in image_list]\n",
    "    min_width = min([i.size[0] for i in imgs])\n",
    "    resized = [change_height_proportionally(img, min_width) for img in imgs]\n",
    "    return [np.asarray(i) for i in resized]\n",
    "\n",
    "\n",
    "def make_same_height(image_list):\n",
    "    \"\"\"Make all images in input list the same height.\"\"\"\n",
    "    imgs = [Image.open(i) for i in image_list]\n",
    "    min_height = min([i.size[1] for i in imgs])\n",
    "    resized = [change_width_proportionally(img, min_height) for img in imgs]\n",
    "    return [np.asarray(i) for i in resized]\n",
    "\n",
    "\n",
    "\n",
    "Image.fromarray(np.vstack(make_same_width(\n",
    "    ['A.png', 'B.png', 'E.png', 'F.png']))).save('left.png')\n",
    "Image.fromarray(np.vstack(make_same_width(\n",
    "    ['C.png', 'D.png']))).save('right.png')\n",
    "\n",
    "combined = Image.fromarray(np.hstack(make_same_height([\"left.png\", \"right.png\"])))\n",
    "add_text(combined)\n",
    "combined.save('Combined_images.png', dpi=combined.size)\n",
    "[os.remove(f) for f in [\"left.png\", \"right.png\"]]\n",
    "\n",
    "\n"
   ]
  }
 ],
 "metadata": {
  "kernelspec": {
   "display_name": "Python 2",
   "language": "python",
   "name": "python2"
  },
  "language_info": {
   "codemirror_mode": {
    "name": "ipython",
    "version": 2
   },
   "file_extension": ".py",
   "mimetype": "text/x-python",
   "name": "python",
   "nbconvert_exporter": "python",
   "pygments_lexer": "ipython2",
   "version": "2.7.13"
  }
 },
 "nbformat": 4,
 "nbformat_minor": 2
}
