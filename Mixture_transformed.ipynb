{
 "cells": [
  {
   "cell_type": "code",
   "execution_count": 2,
   "metadata": {},
   "outputs": [
    {
     "data": {
      "image/png": "[encoded data removed]",
      "text/plain": [
       "<matplotlib.figure.Figure at 0x120992e50>"
      ]
     },
     "metadata": {},
     "output_type": "display_data"
    }
   ],
   "source": [
    "%matplotlib inline\n",
    "\n",
    "from __future__ import absolute_import\n",
    "from __future__ import division\n",
    "from __future__ import print_function\n",
    "\n",
    "import matplotlib.pyplot as plt\n",
    "import matplotlib.cm as cm\n",
    "\n",
    "import numpy as np\n",
    "import six\n",
    "\n",
    "import edward as ed\n",
    "import tensorflow as tf\n",
    "\n",
    "from tensorflow.contrib.distributions.python.ops import bijectors as bijector\n",
    "\n",
    "from edward.models import (\n",
    "    Categorical, Dirichlet, Empirical, InverseGamma,\n",
    "    MultivariateNormalDiag, Normal, ParamMixture, Mixture,\n",
    "    NormalWithSoftplusScale)\n",
    "\n",
    "\n",
    "import matplotlib.cm as cm\n",
    "from matplotlib.colors import ListedColormap, Normalize\n",
    "import seaborn as sns\n",
    "\n",
    "# let edward communicate with tensorflow\n",
    "sess = ed.get_session()\n",
    "\n",
    "sns.palplot(sns.color_palette())\n",
    "\n",
    "ed.set_seed(42)"
   ]
  },
  {
   "cell_type": "code",
   "execution_count": 3,
   "metadata": {
    "collapsed": true
   },
   "outputs": [],
   "source": [
    "true_pi = np.array([0.2, 0.8])\n",
    "true_mus = [[1., 1.], [-1., -1.]]\n",
    "true_stds = [[0.1, 0.1], [0.1, 0.1]]\n",
    "\n",
    "\n",
    "def build_toy_dataset(N, pi=true_pi, mus=true_mus, stds=true_stds):\n",
    "  x = np.zeros((N, 2), dtype=np.float32)\n",
    "  for n in range(N):\n",
    "    k = np.argmax(np.random.multinomial(1, true_pi))\n",
    "    x[n, :] = np.random.multivariate_normal(true_mus[k], np.diag(true_stds[k]))\n",
    "  return x"
   ]
  },
  {
   "cell_type": "code",
   "execution_count": 4,
   "metadata": {
    "collapsed": true
   },
   "outputs": [],
   "source": [
    "N = 500  # number of data points\n",
    "K = 2  # number of components\n",
    "D = 2  # dimensionality of data\n",
    "\n",
    "\n",
    "x_train = build_toy_dataset(N)\n",
    "transformedx_train = 5.0*x_train + 3.0"
   ]
  },
  {
   "cell_type": "code",
   "execution_count": null,
   "metadata": {
    "collapsed": true
   },
   "outputs": [],
   "source": [
    "# Mixture model\n",
    "\n",
    "pi = Dirichlet(tf.ones(K))\n",
    "mu = Normal(tf.zeros(D), tf.ones(D), sample_shape=K)\n",
    "sigmasq = InverseGamma(tf.ones(D), tf.ones(D), sample_shape=K)\n",
    "\n",
    "cat = Categorical(probs=pi, sample_shape=N)\n",
    "components = [\n",
    "    MultivariateNormalDiag(mu[k], sigmasq[k], sample_shape=N)\n",
    "    for k in range(K)]\n",
    "\n",
    "x = Mixture(cat=cat, components=components, sample_shape=N)\n",
    "\n",
    "transformedx = ed.models.TransformedDistribution(\n",
    "  distribution=x,\n",
    "  bijector=tf.contrib.distributions.bijectors.Affine(\n",
    "    shift=3.,\n",
    "    scale_identity_multiplier=5.,\n",
    "    event_ndims=0),\n",
    "  name=\"transformedx\", sample_shape = N)"
   ]
  },
  {
   "cell_type": "code",
   "execution_count": null,
   "metadata": {},
   "outputs": [
    {
     "name": "stderr",
     "output_type": "stream",
     "text": [
      "/Users/maudelachaine/project_env/project-2.7/lib/python2.7/site-packages/edward/util/random_variables.py:52: FutureWarning: Conversion of the second argument of issubdtype from `float` to `np.floating` is deprecated. In future, it will be treated as `np.float64 == np.dtype(float).type`.\n",
      "  not np.issubdtype(value.dtype, np.float) and \\\n"
     ]
    },
    {
     "name": "stdout",
     "output_type": "stream",
     "text": [
      "[[-0.12200748  0.31956738]\n",
      " [ 0.96000874 -1.5143105 ]]\n",
      "{'loss': 3452.5093, 't': 1}\n",
      "[[-0.13026962  0.30995962]\n",
      " [ 0.95066196 -1.505095  ]]\n",
      "{'loss': 3248.552, 't': 101}\n",
      "[[-0.13813761  0.30040285]\n",
      " [ 0.94085497 -1.4961698 ]]\n",
      "{'loss': 3244.105, 't': 201}\n",
      "[[-0.1461622   0.29130137]\n",
      " [ 0.93155336 -1.4868786 ]]\n",
      "{'loss': 3545.5994, 't': 301}\n",
      "[[-0.15360568  0.28204888]\n",
      " [ 0.9225227  -1.4781362 ]]\n",
      "{'loss': 3299.0728, 't': 401}\n",
      "[[-0.16096026  0.2730115 ]\n",
      " [ 0.91324383 -1.4692754 ]]\n",
      "{'loss': 3384.4512, 't': 501}\n",
      "[[-0.16899002  0.2637441 ]\n",
      " [ 0.903914   -1.4607921 ]]\n",
      "{'loss': 3081.2083, 't': 601}\n",
      "[[-0.17619306  0.25451562]\n",
      " [ 0.8950716  -1.4530656 ]]\n",
      "{'loss': 3372.2397, 't': 701}\n",
      "[[-0.1833559   0.24581614]\n",
      " [ 0.8863945  -1.4443766 ]]\n",
      "{'loss': 3005.3184, 't': 801}\n",
      "[[-0.19046628  0.23695609]\n",
      " [ 0.8777645  -1.4362093 ]]\n",
      "{'loss': 3141.8906, 't': 901}\n"
     ]
    },
    {
     "data": {
      "image/png": "[encoded data removed]",
      "text/plain": [
       "<matplotlib.figure.Figure at 0x1212878d0>"
      ]
     },
     "metadata": {},
     "output_type": "display_data"
    }
   ],
   "source": [
    "# KLqp inference\n",
    "qmu = Normal(loc=tf.Variable(tf.random_normal([K,D])), scale=tf.nn.softplus(tf.Variable(tf.random_normal([K,D]))))\n",
    "qsigmasq = ed.models.TransformedDistribution(distribution = NormalWithSoftplusScale(tf.Variable(tf.zeros([K,D])), tf.Variable(tf.zeros([K,D]))), bijector=bijector.Exp())\n",
    "\n",
    "inference = ed.KLqp({mu:qmu, sigmasq:qsigmasq}, data={transformedx: transformedx_train})\n",
    "\n",
    "n_iter = 1000\n",
    "n_print = 500\n",
    "n_samples = 100\n",
    "optimizer = tf.train.AdamOptimizer(1e-4)\n",
    "\n",
    "inference.initialize(n_iter=n_iter, n_print=n_print, n_samples=n_samples,optimizer =optimizer)\n",
    "sess = ed.get_session()\n",
    "init = tf.global_variables_initializer()\n",
    "init.run()\n",
    "\n",
    "learning_curve = []\n",
    "for _ in range(inference.n_iter):\n",
    "    info_dict = inference.update()\n",
    "    if _%100 == 0:\n",
    "        print(qmu.loc.eval())\n",
    "        print(info_dict)\n",
    "        learning_curve.append(info_dict['loss'])\n",
    "\n",
    "plt.semilogy(learning_curve)\n",
    "plt.show()"
   ]
  },
  {
   "cell_type": "code",
   "execution_count": 8,
   "metadata": {},
   "outputs": [
    {
     "data": {
      "text/plain": [
       "<matplotlib.collections.PathCollection at 0x1215e2e50>"
      ]
     },
     "execution_count": 8,
     "metadata": {},
     "output_type": "execute_result"
    },
    {
     "data": {
      "image/png": "[encoded data removed]",
      "text/plain": [
       "<matplotlib.figure.Figure at 0x11035b850>"
      ]
     },
     "metadata": {},
     "output_type": "display_data"
    }
   ],
   "source": [
    "# Assignment clusters\n",
    "\n",
    "M = 100\n",
    "mu_sample = qmu.sample(M)\n",
    "sigmasq_sample = qsigmasq.sample(M)\n",
    "x_post = Normal(loc=tf.ones([N, 1, 1, 1]) * mu_sample,\n",
    "                scale=tf.ones([N, 1, 1, 1]) * tf.sqrt(sigmasq_sample))\n",
    "x_broadcasted = tf.tile(tf.reshape(x_train, [N, 1, 1, D]), [1, M, K, 1])\n",
    "\n",
    "# Sum over latent dimension, then average over posterior samples.\n",
    "# ``log_liks`` ends up with shape (N, K).\n",
    "log_liks = x_post.log_prob(x_broadcasted)\n",
    "log_liks = tf.reduce_sum(log_liks, 3)\n",
    "log_liks = tf.reduce_mean(log_liks, 1)\n",
    "\n",
    "\n",
    "clusters = tf.argmax(log_liks, 1).eval()\n",
    "plt.scatter(transformedx_train[:, 0], transformedx_train[:, 1], c=clusters, cmap=cm.bwr)"
   ]
  },
  {
   "cell_type": "code",
   "execution_count": 2,
   "metadata": {},
   "outputs": [
    {
     "ename": "NameError",
     "evalue": "name 'qmu' is not defined",
     "output_type": "error",
     "traceback": [
      "\u001b[0;31m---------------------------------------------------------------------------\u001b[0m",
      "\u001b[0;31mNameError\u001b[0m                                 Traceback (most recent call last)",
      "\u001b[0;32m<ipython-input-2-70d2d8a40b68>\u001b[0m in \u001b[0;36m<module>\u001b[0;34m()\u001b[0m\n\u001b[0;32m----> 1\u001b[0;31m \u001b[0mpostmu\u001b[0m \u001b[0;34m=\u001b[0m \u001b[0mqmu\u001b[0m\u001b[0;34m.\u001b[0m\u001b[0mloc\u001b[0m\u001b[0;34m.\u001b[0m\u001b[0meval\u001b[0m\u001b[0;34m(\u001b[0m\u001b[0;34m)\u001b[0m\u001b[0;34m\u001b[0m\u001b[0m\n\u001b[0m\u001b[1;32m      2\u001b[0m \u001b[0mplt\u001b[0m\u001b[0;34m.\u001b[0m\u001b[0mscatter\u001b[0m\u001b[0;34m(\u001b[0m\u001b[0;36m5.0\u001b[0m\u001b[0;34m*\u001b[0m\u001b[0mpostmu\u001b[0m\u001b[0;34m[\u001b[0m\u001b[0;34m:\u001b[0m\u001b[0;34m,\u001b[0m \u001b[0;36m0\u001b[0m\u001b[0;34m]\u001b[0m\u001b[0;34m+\u001b[0m\u001b[0;36m3.0\u001b[0m\u001b[0;34m,\u001b[0m \u001b[0;36m5.0\u001b[0m\u001b[0;34m*\u001b[0m\u001b[0mpostmu\u001b[0m\u001b[0;34m[\u001b[0m\u001b[0;34m:\u001b[0m\u001b[0;34m,\u001b[0m \u001b[0;36m1\u001b[0m\u001b[0;34m]\u001b[0m\u001b[0;34m+\u001b[0m\u001b[0;36m3.0\u001b[0m\u001b[0;34m,\u001b[0m \u001b[0mmarker\u001b[0m \u001b[0;34m=\u001b[0m \u001b[0;34m'x'\u001b[0m\u001b[0;34m)\u001b[0m\u001b[0;34m\u001b[0m\u001b[0m\n\u001b[1;32m      3\u001b[0m \u001b[0;34m\u001b[0m\u001b[0m\n\u001b[1;32m      4\u001b[0m \u001b[0mplt\u001b[0m\u001b[0;34m.\u001b[0m\u001b[0mshow\u001b[0m\u001b[0;34m(\u001b[0m\u001b[0;34m)\u001b[0m\u001b[0;34m\u001b[0m\u001b[0m\n",
      "\u001b[0;31mNameError\u001b[0m: name 'qmu' is not defined"
     ]
    }
   ],
   "source": [
    "postmu = qmu.loc.eval()\n",
    "plt.scatter(5.0*postmu[:, 0]+3.0, 5.0*postmu[:, 1]+3.0, marker = 'x')\n",
    "\n",
    "plt.show()"
   ]
  },
  {
   "cell_type": "code",
   "execution_count": null,
   "metadata": {
    "collapsed": true
   },
   "outputs": [],
   "source": [
    "sns.pairplot(haberman, hue='survived_more_than_5_years', size = 4)"
   ]
  },
  {
   "cell_type": "code",
   "execution_count": null,
   "metadata": {
    "collapsed": true
   },
   "outputs": [],
   "source": [
    "plt.plot(v_params.elbo_vals[10000:])\n",
    "sns.despine()"
   ]
  },
  {
   "cell_type": "code",
   "execution_count": null,
   "metadata": {
    "collapsed": true
   },
   "outputs": [],
   "source": [
    "sns.heatmap(confusion_matrix(y_test, y_pred))"
   ]
  }
 ],
 "metadata": {
  "kernelspec": {
   "display_name": "Python 2",
   "language": "python",
   "name": "python2"
  },
  "language_info": {
   "codemirror_mode": {
    "name": "ipython",
    "version": 2
   },
   "file_extension": ".py",
   "mimetype": "text/x-python",
   "name": "python",
   "nbconvert_exporter": "python",
   "pygments_lexer": "ipython2",
   "version": "2.7.13"
  }
 },
 "nbformat": 4,
 "nbformat_minor": 2
}
